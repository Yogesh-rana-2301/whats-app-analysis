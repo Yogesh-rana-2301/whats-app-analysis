{
 "cells": [
  {
   "cell_type": "code",
   "execution_count": 67,
   "id": "03c06aef-ca50-404d-a1d1-39cc42a01d10",
   "metadata": {},
   "outputs": [],
   "source": [
    "import re\n",
    "import pandas as pd"
   ]
  },
  {
   "cell_type": "code",
   "execution_count": 68,
   "id": "7cb0f9f9-9214-42ca-938b-a66a6ad55ae4",
   "metadata": {},
   "outputs": [],
   "source": [
    "f = open('WhatsApp Chat with Bakchods .txt' , 'r' , encoding='utf-8')"
   ]
  },
  {
   "cell_type": "code",
   "execution_count": 69,
   "id": "bafe4dd6-1ce4-4af5-8167-6c96a02a3eae",
   "metadata": {},
   "outputs": [],
   "source": [
    "data = f.read()"
   ]
  },
  {
   "cell_type": "code",
   "execution_count": 70,
   "id": "5d0ce66a-0530-4cdc-bcc5-98a368160db8",
   "metadata": {},
   "outputs": [],
   "source": [
    "#print(data)"
   ]
  },
  {
   "cell_type": "code",
   "execution_count": 71,
   "id": "986bfc7a-b03a-4e9e-a882-9944c9387817",
   "metadata": {},
   "outputs": [],
   "source": [
    "pattern = '\\d{1,2}/\\d{1,2}/\\d{2}, \\d{1,2}:\\d{2}(?:\\s|\\u202F)?[AP]M -'\n",
    "pattern1 = '\\d{1,2}/\\d{1,2}/\\d{2}, \\d{1,2}:\\d{2}'\n",
    "\n"
   ]
  },
  {
   "cell_type": "code",
   "execution_count": 72,
   "id": "e3afff13-82dc-414a-ae32-04972615883a",
   "metadata": {},
   "outputs": [],
   "source": [
    "messages = re.split(pattern , data )[1:]"
   ]
  },
  {
   "cell_type": "code",
   "execution_count": 73,
   "id": "91a24b7c-d464-4f84-a19b-f73754274c0f",
   "metadata": {},
   "outputs": [],
   "source": [
    "dates = re.findall(pattern1 , data)"
   ]
  },
  {
   "cell_type": "code",
   "execution_count": 74,
   "id": "8e8f3251-8fa8-4efb-a387-5e4e80fab3f8",
   "metadata": {},
   "outputs": [],
   "source": [
    "#messages"
   ]
  },
  {
   "cell_type": "code",
   "execution_count": 75,
   "id": "123fa555-d51e-4a90-8350-5f75fd944a57",
   "metadata": {},
   "outputs": [],
   "source": [
    "#dates"
   ]
  },
  {
   "cell_type": "code",
   "execution_count": 76,
   "id": "eb9b5b28-8620-46b7-a264-85f64bd1cf57",
   "metadata": {},
   "outputs": [],
   "source": [
    "df = pd.DataFrame({'user_message': messages, 'message_date': dates})\n",
    "    # convert message_date type\n",
    "df['message_date'] = pd.to_datetime(df['message_date'], format='%m/%d/%y, %H:%M')\n",
    "\n",
    "df.rename(columns={'message_date': 'date'}, inplace=True)"
   ]
  },
  {
   "cell_type": "code",
   "execution_count": 77,
   "id": "d3da6c59-112f-4b0e-bc46-2c50bce0877b",
   "metadata": {},
   "outputs": [
    {
     "data": {
      "text/html": [
       "<div>\n",
       "<style scoped>\n",
       "    .dataframe tbody tr th:only-of-type {\n",
       "        vertical-align: middle;\n",
       "    }\n",
       "\n",
       "    .dataframe tbody tr th {\n",
       "        vertical-align: top;\n",
       "    }\n",
       "\n",
       "    .dataframe thead th {\n",
       "        text-align: right;\n",
       "    }\n",
       "</style>\n",
       "<table border=\"1\" class=\"dataframe\">\n",
       "  <thead>\n",
       "    <tr style=\"text-align: right;\">\n",
       "      <th></th>\n",
       "      <th>user_message</th>\n",
       "      <th>date</th>\n",
       "    </tr>\n",
       "  </thead>\n",
       "  <tbody>\n",
       "    <tr>\n",
       "      <th>0</th>\n",
       "      <td>Messages and calls are end-to-end encrypted. ...</td>\n",
       "      <td>2023-08-28 03:04:00</td>\n",
       "    </tr>\n",
       "    <tr>\n",
       "      <th>1</th>\n",
       "      <td>Shivam Roommate created group \"Bakchods \"\\n</td>\n",
       "      <td>2023-08-28 03:04:00</td>\n",
       "    </tr>\n",
       "    <tr>\n",
       "      <th>2</th>\n",
       "      <td>Shivam Roommate added you\\n</td>\n",
       "      <td>2023-08-28 03:04:00</td>\n",
       "    </tr>\n",
       "    <tr>\n",
       "      <th>3</th>\n",
       "      <td>Taranveer Singh: Salon hostel mai kon kon hai...</td>\n",
       "      <td>2023-08-28 03:58:00</td>\n",
       "    </tr>\n",
       "    <tr>\n",
       "      <th>4</th>\n",
       "      <td>Shivam Roommate: Mess secretary ki applicatio...</td>\n",
       "      <td>2023-08-28 04:15:00</td>\n",
       "    </tr>\n",
       "  </tbody>\n",
       "</table>\n",
       "</div>"
      ],
      "text/plain": [
       "                                        user_message                date\n",
       "0   Messages and calls are end-to-end encrypted. ... 2023-08-28 03:04:00\n",
       "1        Shivam Roommate created group \"Bakchods \"\\n 2023-08-28 03:04:00\n",
       "2                        Shivam Roommate added you\\n 2023-08-28 03:04:00\n",
       "3   Taranveer Singh: Salon hostel mai kon kon hai... 2023-08-28 03:58:00\n",
       "4   Shivam Roommate: Mess secretary ki applicatio... 2023-08-28 04:15:00"
      ]
     },
     "execution_count": 77,
     "metadata": {},
     "output_type": "execute_result"
    }
   ],
   "source": [
    "df.head()"
   ]
  },
  {
   "cell_type": "code",
   "execution_count": 78,
   "id": "51565e6d-3f99-4305-8d94-3c55a4caba6c",
   "metadata": {},
   "outputs": [
    {
     "data": {
      "text/plain": [
       "(7275, 2)"
      ]
     },
     "execution_count": 78,
     "metadata": {},
     "output_type": "execute_result"
    }
   ],
   "source": [
    "df.shape"
   ]
  },
  {
   "cell_type": "code",
   "execution_count": 79,
   "id": "129605b1-e81d-4139-98c3-d890416c74ed",
   "metadata": {},
   "outputs": [],
   "source": [
    "    users = []\n",
    "    messages = []\n",
    "    for message in df['user_message']:\n",
    "        entry = re.split('([\\w\\W]+?):\\s', message)\n",
    "        if entry[1:]:  # user name\n",
    "            users.append(entry[1])\n",
    "            messages.append(\" \".join(entry[2:]))\n",
    "        else:\n",
    "            users.append('group_notification')\n",
    "            messages.append(entry[0])\n",
    "\n",
    "    df['user'] = users\n",
    "    df['message'] = messages\n",
    "    df.drop(columns=['user_message'], inplace=True)"
   ]
  },
  {
   "cell_type": "code",
   "execution_count": 80,
   "id": "bfccd747-08f8-4bce-bc54-d11b72989e23",
   "metadata": {},
   "outputs": [
    {
     "data": {
      "text/html": [
       "<div>\n",
       "<style scoped>\n",
       "    .dataframe tbody tr th:only-of-type {\n",
       "        vertical-align: middle;\n",
       "    }\n",
       "\n",
       "    .dataframe tbody tr th {\n",
       "        vertical-align: top;\n",
       "    }\n",
       "\n",
       "    .dataframe thead th {\n",
       "        text-align: right;\n",
       "    }\n",
       "</style>\n",
       "<table border=\"1\" class=\"dataframe\">\n",
       "  <thead>\n",
       "    <tr style=\"text-align: right;\">\n",
       "      <th></th>\n",
       "      <th>date</th>\n",
       "      <th>user</th>\n",
       "      <th>message</th>\n",
       "    </tr>\n",
       "  </thead>\n",
       "  <tbody>\n",
       "    <tr>\n",
       "      <th>0</th>\n",
       "      <td>2023-08-28 03:04:00</td>\n",
       "      <td>group_notification</td>\n",
       "      <td>Messages and calls are end-to-end encrypted. ...</td>\n",
       "    </tr>\n",
       "    <tr>\n",
       "      <th>1</th>\n",
       "      <td>2023-08-28 03:04:00</td>\n",
       "      <td>group_notification</td>\n",
       "      <td>Shivam Roommate created group \"Bakchods \"\\n</td>\n",
       "    </tr>\n",
       "    <tr>\n",
       "      <th>2</th>\n",
       "      <td>2023-08-28 03:04:00</td>\n",
       "      <td>group_notification</td>\n",
       "      <td>Shivam Roommate added you\\n</td>\n",
       "    </tr>\n",
       "    <tr>\n",
       "      <th>3</th>\n",
       "      <td>2023-08-28 03:58:00</td>\n",
       "      <td>Taranveer Singh</td>\n",
       "      <td>Salon hostel mai kon kon hai???\\n</td>\n",
       "    </tr>\n",
       "    <tr>\n",
       "      <th>4</th>\n",
       "      <td>2023-08-28 04:15:00</td>\n",
       "      <td>Shivam Roommate</td>\n",
       "      <td>Mess secretary ki application dal do saare\\n</td>\n",
       "    </tr>\n",
       "  </tbody>\n",
       "</table>\n",
       "</div>"
      ],
      "text/plain": [
       "                 date                user  \\\n",
       "0 2023-08-28 03:04:00  group_notification   \n",
       "1 2023-08-28 03:04:00  group_notification   \n",
       "2 2023-08-28 03:04:00  group_notification   \n",
       "3 2023-08-28 03:58:00     Taranveer Singh   \n",
       "4 2023-08-28 04:15:00     Shivam Roommate   \n",
       "\n",
       "                                             message  \n",
       "0   Messages and calls are end-to-end encrypted. ...  \n",
       "1        Shivam Roommate created group \"Bakchods \"\\n  \n",
       "2                        Shivam Roommate added you\\n  \n",
       "3                  Salon hostel mai kon kon hai???\\n  \n",
       "4       Mess secretary ki application dal do saare\\n  "
      ]
     },
     "execution_count": 80,
     "metadata": {},
     "output_type": "execute_result"
    }
   ],
   "source": [
    "df.head()"
   ]
  },
  {
   "cell_type": "code",
   "execution_count": 81,
   "id": "c37b883e-8e80-44ba-88d2-0a95f340bed1",
   "metadata": {},
   "outputs": [],
   "source": [
    "df['year'] = df['date'].dt.year"
   ]
  },
  {
   "cell_type": "code",
   "execution_count": 82,
   "id": "929fb9ce-e89b-42a5-9f6f-9a582edcb7b4",
   "metadata": {},
   "outputs": [],
   "source": [
    "df['month'] = df['date'].dt.month_name()"
   ]
  },
  {
   "cell_type": "code",
   "execution_count": 83,
   "id": "0173b9e2-c584-48cd-9e3f-d70d1686e7ab",
   "metadata": {},
   "outputs": [],
   "source": [
    "df['day'] = df['date'].dt.day "
   ]
  },
  {
   "cell_type": "code",
   "execution_count": 84,
   "id": "35db982e-202f-4abe-b140-0bd799f68f93",
   "metadata": {},
   "outputs": [],
   "source": [
    "df['hour'] = df['date'].dt.hour\n",
    "df['minute'] = df['date'].dt.minute"
   ]
  },
  {
   "cell_type": "code",
   "execution_count": 85,
   "id": "4448136e-4d2a-4990-9e79-4814800936c9",
   "metadata": {},
   "outputs": [
    {
     "data": {
      "text/html": [
       "<div>\n",
       "<style scoped>\n",
       "    .dataframe tbody tr th:only-of-type {\n",
       "        vertical-align: middle;\n",
       "    }\n",
       "\n",
       "    .dataframe tbody tr th {\n",
       "        vertical-align: top;\n",
       "    }\n",
       "\n",
       "    .dataframe thead th {\n",
       "        text-align: right;\n",
       "    }\n",
       "</style>\n",
       "<table border=\"1\" class=\"dataframe\">\n",
       "  <thead>\n",
       "    <tr style=\"text-align: right;\">\n",
       "      <th></th>\n",
       "      <th>date</th>\n",
       "      <th>user</th>\n",
       "      <th>message</th>\n",
       "      <th>year</th>\n",
       "      <th>month</th>\n",
       "      <th>day</th>\n",
       "      <th>hour</th>\n",
       "      <th>minute</th>\n",
       "    </tr>\n",
       "  </thead>\n",
       "  <tbody>\n",
       "    <tr>\n",
       "      <th>0</th>\n",
       "      <td>2023-08-28 03:04:00</td>\n",
       "      <td>group_notification</td>\n",
       "      <td>Messages and calls are end-to-end encrypted. ...</td>\n",
       "      <td>2023</td>\n",
       "      <td>August</td>\n",
       "      <td>28</td>\n",
       "      <td>3</td>\n",
       "      <td>4</td>\n",
       "    </tr>\n",
       "    <tr>\n",
       "      <th>1</th>\n",
       "      <td>2023-08-28 03:04:00</td>\n",
       "      <td>group_notification</td>\n",
       "      <td>Shivam Roommate created group \"Bakchods \"\\n</td>\n",
       "      <td>2023</td>\n",
       "      <td>August</td>\n",
       "      <td>28</td>\n",
       "      <td>3</td>\n",
       "      <td>4</td>\n",
       "    </tr>\n",
       "    <tr>\n",
       "      <th>2</th>\n",
       "      <td>2023-08-28 03:04:00</td>\n",
       "      <td>group_notification</td>\n",
       "      <td>Shivam Roommate added you\\n</td>\n",
       "      <td>2023</td>\n",
       "      <td>August</td>\n",
       "      <td>28</td>\n",
       "      <td>3</td>\n",
       "      <td>4</td>\n",
       "    </tr>\n",
       "    <tr>\n",
       "      <th>3</th>\n",
       "      <td>2023-08-28 03:58:00</td>\n",
       "      <td>Taranveer Singh</td>\n",
       "      <td>Salon hostel mai kon kon hai???\\n</td>\n",
       "      <td>2023</td>\n",
       "      <td>August</td>\n",
       "      <td>28</td>\n",
       "      <td>3</td>\n",
       "      <td>58</td>\n",
       "    </tr>\n",
       "    <tr>\n",
       "      <th>4</th>\n",
       "      <td>2023-08-28 04:15:00</td>\n",
       "      <td>Shivam Roommate</td>\n",
       "      <td>Mess secretary ki application dal do saare\\n</td>\n",
       "      <td>2023</td>\n",
       "      <td>August</td>\n",
       "      <td>28</td>\n",
       "      <td>4</td>\n",
       "      <td>15</td>\n",
       "    </tr>\n",
       "  </tbody>\n",
       "</table>\n",
       "</div>"
      ],
      "text/plain": [
       "                 date                user  \\\n",
       "0 2023-08-28 03:04:00  group_notification   \n",
       "1 2023-08-28 03:04:00  group_notification   \n",
       "2 2023-08-28 03:04:00  group_notification   \n",
       "3 2023-08-28 03:58:00     Taranveer Singh   \n",
       "4 2023-08-28 04:15:00     Shivam Roommate   \n",
       "\n",
       "                                             message  year   month  day  hour  \\\n",
       "0   Messages and calls are end-to-end encrypted. ...  2023  August   28     3   \n",
       "1        Shivam Roommate created group \"Bakchods \"\\n  2023  August   28     3   \n",
       "2                        Shivam Roommate added you\\n  2023  August   28     3   \n",
       "3                  Salon hostel mai kon kon hai???\\n  2023  August   28     3   \n",
       "4       Mess secretary ki application dal do saare\\n  2023  August   28     4   \n",
       "\n",
       "   minute  \n",
       "0       4  \n",
       "1       4  \n",
       "2       4  \n",
       "3      58  \n",
       "4      15  "
      ]
     },
     "execution_count": 85,
     "metadata": {},
     "output_type": "execute_result"
    }
   ],
   "source": [
    "df.head()"
   ]
  },
  {
   "cell_type": "code",
   "execution_count": null,
   "id": "b28b1d52-ee86-432c-a610-24a2bdb07d4b",
   "metadata": {},
   "outputs": [],
   "source": []
  }
 ],
 "metadata": {
  "kernelspec": {
   "display_name": "Python 3 (ipykernel)",
   "language": "python",
   "name": "python3"
  },
  "language_info": {
   "codemirror_mode": {
    "name": "ipython",
    "version": 3
   },
   "file_extension": ".py",
   "mimetype": "text/x-python",
   "name": "python",
   "nbconvert_exporter": "python",
   "pygments_lexer": "ipython3",
   "version": "3.13.5"
  }
 },
 "nbformat": 4,
 "nbformat_minor": 5
}
